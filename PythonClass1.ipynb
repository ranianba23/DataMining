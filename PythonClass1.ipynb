{
  "nbformat": 4,
  "nbformat_minor": 0,
  "metadata": {
    "colab": {
      "name": "PythonClass1.ipynb",
      "provenance": [],
      "collapsed_sections": [],
      "authorship_tag": "ABX9TyOQ2fJR/NZy3tBsZG0flGN+",
      "include_colab_link": true
    },
    "kernelspec": {
      "name": "python3",
      "display_name": "Python 3"
    }
  },
  "cells": [
    {
      "cell_type": "markdown",
      "metadata": {
        "id": "view-in-github",
        "colab_type": "text"
      },
      "source": [
        "<a href=\"https://colab.research.google.com/github/ranianba23/DataMining/blob/master/PythonClass1.ipynb\" target=\"_parent\"><img src=\"https://colab.research.google.com/assets/colab-badge.svg\" alt=\"Open In Colab\"/></a>"
      ]
    },
    {
      "cell_type": "markdown",
      "metadata": {
        "id": "nS8-oif-8LP6"
      },
      "source": [
        "# First Python **Lab**"
      ]
    },
    {
      "cell_type": "code",
      "metadata": {
        "id": "b4EjqmmU8cT5",
        "colab": {
          "base_uri": "https://localhost:8080/",
          "height": 34
        },
        "outputId": "56ca6270-8b06-4196-9869-83c0e8e2c742"
      },
      "source": [
        "print(\"Hello Python\")"
      ],
      "execution_count": null,
      "outputs": [
        {
          "output_type": "stream",
          "text": [
            "Hello Python\n"
          ],
          "name": "stdout"
        }
      ]
    },
    {
      "cell_type": "code",
      "metadata": {
        "id": "ryha0PWi8vTz",
        "colab": {
          "base_uri": "https://localhost:8080/",
          "height": 34
        },
        "outputId": "9e212949-9f9e-4098-c896-8c9fb620bd95"
      },
      "source": [
        "orange=5\n",
        "apple=4\n",
        "total= orange + apple\n",
        "print(total)"
      ],
      "execution_count": null,
      "outputs": [
        {
          "output_type": "stream",
          "text": [
            "9\n"
          ],
          "name": "stdout"
        }
      ]
    },
    {
      "cell_type": "code",
      "metadata": {
        "id": "w7tjEI7g9Iyg",
        "colab": {
          "base_uri": "https://localhost:8080/",
          "height": 34
        },
        "outputId": "1288f2bb-2737-4390-865e-854cec1b6e3b"
      },
      "source": [
        "mugs=12\n",
        "plates=5\n",
        "cups=8\n",
        "total= 3*mugs + 5*plates + 2*cups\n",
        "print(total)"
      ],
      "execution_count": null,
      "outputs": [
        {
          "output_type": "stream",
          "text": [
            "77\n"
          ],
          "name": "stdout"
        }
      ]
    },
    {
      "cell_type": "code",
      "metadata": {
        "id": "Vx93hFhE-AFa"
      },
      "source": [
        "name=\"Rani\" #\"\" / '' doesn't matter\n",
        "age=27\n",
        "height=167\n",
        "married= False\n",
        "\n"
      ],
      "execution_count": null,
      "outputs": []
    },
    {
      "cell_type": "markdown",
      "metadata": {
        "id": "PY_8P3F7_QFk"
      },
      "source": [
        "# LAB 2: **PYTHON OPERATIONS**"
      ]
    },
    {
      "cell_type": "code",
      "metadata": {
        "id": "S0hjF_DH-fhD"
      },
      "source": [
        "name= 'Rani'\n",
        "food= 'cheese'\n",
        "age='27'"
      ],
      "execution_count": null,
      "outputs": []
    },
    {
      "cell_type": "code",
      "metadata": {
        "id": "mIAlm9KY-17u",
        "colab": {
          "base_uri": "https://localhost:8080/",
          "height": 35
        },
        "outputId": "b2922500-c5bb-4681-d8a6-739da948c7d9"
      },
      "source": [
        "name #show raw result"
      ],
      "execution_count": null,
      "outputs": [
        {
          "output_type": "execute_result",
          "data": {
            "application/vnd.google.colaboratory.intrinsic+json": {
              "type": "string"
            },
            "text/plain": [
              "'Rani'"
            ]
          },
          "metadata": {
            "tags": []
          },
          "execution_count": 2
        }
      ]
    },
    {
      "cell_type": "code",
      "metadata": {
        "id": "bvOB-FVg-5jC",
        "colab": {
          "base_uri": "https://localhost:8080/",
          "height": 34
        },
        "outputId": "cf77200f-9d5d-4570-ec0a-fff8fd389fce"
      },
      "source": [
        "print(name) #print content"
      ],
      "execution_count": null,
      "outputs": [
        {
          "output_type": "stream",
          "text": [
            "Rani\n"
          ],
          "name": "stdout"
        }
      ]
    },
    {
      "cell_type": "code",
      "metadata": {
        "id": "Q8n4yhnx_OFi"
      },
      "source": [
        "#define function #function to return value\n",
        "def age():\n",
        "  age = 20\n",
        "  return age"
      ],
      "execution_count": null,
      "outputs": []
    },
    {
      "cell_type": "code",
      "metadata": {
        "id": "NlqDwB3W_jKA",
        "colab": {
          "base_uri": "https://localhost:8080/",
          "height": 34
        },
        "outputId": "9a3c8d86-511b-4e84-b480-e6634d209660"
      },
      "source": [
        "age()"
      ],
      "execution_count": null,
      "outputs": [
        {
          "output_type": "execute_result",
          "data": {
            "text/plain": [
              "20"
            ]
          },
          "metadata": {
            "tags": []
          },
          "execution_count": 5
        }
      ]
    },
    {
      "cell_type": "code",
      "metadata": {
        "id": "NWgOGH0Y_naw"
      },
      "source": [
        "#function with 2 variables\n",
        "def area(width,height):\n",
        "  return width * height"
      ],
      "execution_count": null,
      "outputs": []
    },
    {
      "cell_type": "code",
      "metadata": {
        "id": "0f4IbFJV_-Sv",
        "colab": {
          "base_uri": "https://localhost:8080/",
          "height": 34
        },
        "outputId": "bfc83eb7-6b95-4c9c-efeb-0c485c7ad144"
      },
      "source": [
        "area(4,3)"
      ],
      "execution_count": null,
      "outputs": [
        {
          "output_type": "execute_result",
          "data": {
            "text/plain": [
              "12"
            ]
          },
          "metadata": {
            "tags": []
          },
          "execution_count": 8
        }
      ]
    },
    {
      "cell_type": "code",
      "metadata": {
        "id": "4bt5P915APLs",
        "colab": {
          "base_uri": "https://localhost:8080/",
          "height": 52
        },
        "outputId": "5d4ddb60-2e42-486c-8968-d1d44a1b4348"
      },
      "source": [
        "#conditions\n",
        "#example 1\n",
        "age=input('How old are you>?')\n",
        "\n",
        "if int(age) > 18:\n",
        "  print(\"You are allowed to enter\")\n",
        "else:\n",
        "  print(\"Sorry, you are not allowed!\")"
      ],
      "execution_count": null,
      "outputs": [
        {
          "output_type": "stream",
          "text": [
            "How old are you>?5\n",
            "Sorry, you are not allowed!\n"
          ],
          "name": "stdout"
        }
      ]
    },
    {
      "cell_type": "markdown",
      "metadata": {
        "id": "Svzv_IFF7xlP"
      },
      "source": [
        "**EXERCISES**"
      ]
    },
    {
      "cell_type": "code",
      "metadata": {
        "id": "okiv_-x8A5tW",
        "colab": {
          "base_uri": "https://localhost:8080/",
          "height": 52
        },
        "outputId": "b411f9b7-f955-4bff-c357-00f3a042f1e0"
      },
      "source": [
        "#exercise 1\n",
        "#temperature converter(F to celcius)\n",
        "\n",
        "\n",
        "F = input (\"Fahrenheit:\")\n",
        "\n",
        "def Fahrenheit():\n",
        "  Fahrenheit = (float(F) - 32) * 5/9\n",
        "  return Fahrenheit\n",
        "Fahrenheit()\n",
        "\n"
      ],
      "execution_count": null,
      "outputs": [
        {
          "output_type": "stream",
          "text": [
            "Fahrenheit:100\n"
          ],
          "name": "stdout"
        },
        {
          "output_type": "execute_result",
          "data": {
            "text/plain": [
              "37.77777777777778"
            ]
          },
          "metadata": {
            "tags": []
          },
          "execution_count": 27
        }
      ]
    },
    {
      "cell_type": "code",
      "metadata": {
        "id": "uRYmMue8IRL0",
        "colab": {
          "base_uri": "https://localhost:8080/",
          "height": 70
        },
        "outputId": "4b096306-9c85-43bc-f619-a74cd3de1167"
      },
      "source": [
        "#exercise 2\n",
        "#convert currency\n",
        "\n",
        "Currency= input(\"Currency Type:\")\n",
        "Amount= input(\"Amount:\")\n",
        "\n",
        "if Currency == \"MYR\":\n",
        "  Calculate_SGD= float(Amount) * 0.33\n",
        "  print(\"SGD\",Calculate_SGD)\n",
        "else:\n",
        "  Calculate_MYR= float(Amount) * 3.06\n",
        "  print(\"MYR\",Calculate_MYR)\n",
        "\n",
        "\n"
      ],
      "execution_count": null,
      "outputs": [
        {
          "output_type": "stream",
          "text": [
            "Currency Type:SGD\n",
            "Amount:1000\n",
            "MYR 3060.0\n"
          ],
          "name": "stdout"
        }
      ]
    },
    {
      "cell_type": "code",
      "metadata": {
        "id": "wYRkf89JPYU5",
        "colab": {
          "base_uri": "https://localhost:8080/",
          "height": 34
        },
        "outputId": "d94cf091-86ae-4664-da25-476e62de22d5"
      },
      "source": [
        "#LIST -store more than one value\n",
        "\n",
        "names= [\"Rani\",\"Raji\",\"Amar\"]\n",
        "print(names)"
      ],
      "execution_count": null,
      "outputs": [
        {
          "output_type": "stream",
          "text": [
            "['Rani', 'Raji', 'Amar']\n"
          ],
          "name": "stdout"
        }
      ]
    },
    {
      "cell_type": "code",
      "metadata": {
        "id": "TMiwp_YWQIZP",
        "colab": {
          "base_uri": "https://localhost:8080/",
          "height": 70
        },
        "outputId": "e65e85d7-faca-4938-8676-fd732a266fcf"
      },
      "source": [
        "for name in names:\n",
        "  print(name.upper())"
      ],
      "execution_count": null,
      "outputs": [
        {
          "output_type": "stream",
          "text": [
            "RANI\n",
            "RAJI\n",
            "AMAR\n"
          ],
          "name": "stdout"
        }
      ]
    },
    {
      "cell_type": "code",
      "metadata": {
        "id": "PkK0n7Z6Q5PR",
        "colab": {
          "base_uri": "https://localhost:8080/",
          "height": 34
        },
        "outputId": "dc7707ed-e112-487a-a63d-7052c151e4f3"
      },
      "source": [
        "shopping_list=[\"banana\",2,\"apple\",4]\n",
        "print(shopping_list)"
      ],
      "execution_count": null,
      "outputs": [
        {
          "output_type": "stream",
          "text": [
            "['banana', 2, 'apple', 4]\n"
          ],
          "name": "stdout"
        }
      ]
    },
    {
      "cell_type": "code",
      "metadata": {
        "id": "iz-sgdDLPo_y",
        "colab": {
          "base_uri": "https://localhost:8080/",
          "height": 34
        },
        "outputId": "9b4188ca-031c-46d7-8c7f-e875a814ef6f"
      },
      "source": [
        "#DICTIONARY-store multiple values with name (unique name)\n",
        "#key and value\n",
        "employee ={'age':27,'name':\"Rani\"}\n",
        "employee['age']"
      ],
      "execution_count": null,
      "outputs": [
        {
          "output_type": "execute_result",
          "data": {
            "text/plain": [
              "27"
            ]
          },
          "metadata": {
            "tags": []
          },
          "execution_count": 34
        }
      ]
    },
    {
      "cell_type": "code",
      "metadata": {
        "id": "QToRqAaQRDUp",
        "colab": {
          "base_uri": "https://localhost:8080/",
          "height": 34
        },
        "outputId": "7262f0c6-ee7a-46c4-db32-880d51889e83"
      },
      "source": [
        "employee[\"position\"]=\"data engineer\"\n",
        "employee"
      ],
      "execution_count": null,
      "outputs": [
        {
          "output_type": "execute_result",
          "data": {
            "text/plain": [
              "{'age': 27, 'name': 'Rani', 'position': 'data engineer'}"
            ]
          },
          "metadata": {
            "tags": []
          },
          "execution_count": 36
        }
      ]
    },
    {
      "cell_type": "code",
      "metadata": {
        "id": "n7hsZQP770th",
        "colab": {
          "base_uri": "https://localhost:8080/",
          "height": 34
        },
        "outputId": "12cac87d-6e22-499d-a9e4-6befc30070aa"
      },
      "source": [
        "#exercise 3\n",
        "#Area of Circle -pi * r2\n",
        "pi = 3.141592653589793\n",
        "r=1.1\n",
        "def Area():\n",
        "  Area = pi * r * r\n",
        "  return Area\n",
        "\n",
        "Area()"
      ],
      "execution_count": null,
      "outputs": [
        {
          "output_type": "execute_result",
          "data": {
            "text/plain": [
              "3.8013271108436504"
            ]
          },
          "metadata": {
            "tags": []
          },
          "execution_count": 2
        }
      ]
    },
    {
      "cell_type": "code",
      "metadata": {
        "id": "h0vPTr7K866i",
        "colab": {
          "base_uri": "https://localhost:8080/",
          "height": 53
        },
        "outputId": "a4bda5d0-a8c4-41b3-9a6a-2249577e2741"
      },
      "source": [
        "from math import pi\n",
        "r= float(input(\"Radius:\"))\n",
        "def Area():\n",
        "  Area = str(pi * r**2)\n",
        "  return Area\n",
        "\n",
        "Area()\n"
      ],
      "execution_count": null,
      "outputs": [
        {
          "output_type": "stream",
          "text": [
            "Radius:1.1\n"
          ],
          "name": "stdout"
        },
        {
          "output_type": "execute_result",
          "data": {
            "application/vnd.google.colaboratory.intrinsic+json": {
              "type": "string"
            },
            "text/plain": [
              "'3.8013271108436504'"
            ]
          },
          "metadata": {
            "tags": []
          },
          "execution_count": 11
        }
      ]
    },
    {
      "cell_type": "code",
      "metadata": {
        "id": "4BZZxo6qZQmw",
        "colab": {
          "base_uri": "https://localhost:8080/"
        },
        "outputId": "e555d073-5481-4317-f374-2618f99364f5"
      },
      "source": [
        "#Reverse first and last name\n",
        "fname = input(\"Your first name:\")\n",
        "lname = input(\"Your last name:\")\n",
        "print(lname,\"\",fname)"
      ],
      "execution_count": null,
      "outputs": [
        {
          "output_type": "stream",
          "text": [
            "Your first name:Rani\n",
            "Your last name:Amar\n",
            "Amar  Rani\n"
          ],
          "name": "stdout"
        }
      ]
    },
    {
      "cell_type": "code",
      "metadata": {
        "id": "w-BacT7waSeJ",
        "colab": {
          "base_uri": "https://localhost:8080/"
        },
        "outputId": "39d63391-7354-4041-f98f-aa2457b0f0bf"
      },
      "source": [
        "#display the first and last colors from the following list. \n",
        "color_list = [\"Red\",\"Green\",\"White\" ,\"Black\"]\n",
        "\n",
        "print(\"First color:\",color_list[0])\n",
        "print(\"Last color:\", color_list[-1])\n",
        "\n",
        "#first element is assigned index value 0 and the last element can be considered as a value -1"
      ],
      "execution_count": null,
      "outputs": [
        {
          "output_type": "stream",
          "text": [
            "First color: Red\n",
            "Last color: Black\n"
          ],
          "name": "stdout"
        }
      ]
    },
    {
      "cell_type": "code",
      "metadata": {
        "id": "I3Q2Tz-ccLQS",
        "colab": {
          "base_uri": "https://localhost:8080/"
        },
        "outputId": "887574f9-bfa2-40ae-d32c-8190a255d025"
      },
      "source": [
        "#exam_st_date = (11, 12, 2014)\n",
        "#Sample Output : The examination will start from : 11 / 12 / 2014\n",
        "\n",
        "exam_st_date = (11, 12, 2014)\n",
        "\n",
        "print(\"The examination will start from :%i / %i / %i\"%exam_st_date)"
      ],
      "execution_count": null,
      "outputs": [
        {
          "output_type": "stream",
          "text": [
            "The examination will start from :11 / 12 / 2014\n"
          ],
          "name": "stdout"
        }
      ]
    },
    {
      "cell_type": "code",
      "metadata": {
        "id": "SKr6HfdzfSha",
        "colab": {
          "base_uri": "https://localhost:8080/"
        },
        "outputId": "6f1775ca-971d-4300-dab1-e41d0aae4e22"
      },
      "source": [
        "import calendar\n",
        "y = int(input(\"Input the year : \"))\n",
        "m = int(input(\"Input the month : \"))\n",
        "print(calendar.month(y, m))"
      ],
      "execution_count": null,
      "outputs": [
        {
          "output_type": "stream",
          "text": [
            "Input the year : 2000\n",
            "Input the month : 1\n",
            "    January 2000\n",
            "Mo Tu We Th Fr Sa Su\n",
            "                1  2\n",
            " 3  4  5  6  7  8  9\n",
            "10 11 12 13 14 15 16\n",
            "17 18 19 20 21 22 23\n",
            "24 25 26 27 28 29 30\n",
            "31\n",
            "\n"
          ],
          "name": "stdout"
        }
      ]
    },
    {
      "cell_type": "code",
      "metadata": {
        "id": "bgairvjVhwMP",
        "colab": {
          "base_uri": "https://localhost:8080/"
        },
        "outputId": "74cf97e1-3244-46ab-860a-aaa9cf6cd9b4"
      },
      "source": [
        "#calculate the sum of three given numbers, if the values are equal then return three times of their sum.\n",
        "num1= int(input(\"First num:\"))\n",
        "num2= int(input(\"Second num:\"))\n",
        "num3= int(input(\"Third num:\"))\n",
        "\n",
        "\n",
        "if (num1==num2==num3):\n",
        "  sum= num1+num2+num3\n",
        "  sum3= sum*3\n",
        "\n",
        "  print(\"Sum of numbers:\",sum3)\n",
        "else:\n",
        "  print(\"Values not equal\")"
      ],
      "execution_count": null,
      "outputs": [
        {
          "output_type": "stream",
          "text": [
            "First num:3\n",
            "Second num:3\n",
            "Third num:3\n",
            "Sum of numbers: 27\n"
          ],
          "name": "stdout"
        }
      ]
    },
    {
      "cell_type": "code",
      "metadata": {
        "id": "B_tf22Z45Axr",
        "colab": {
          "base_uri": "https://localhost:8080/"
        },
        "outputId": "b9ef9c80-14d3-4a62-c83f-c208cd477c15"
      },
      "source": [
        "#print all even numbers from a given numbers list in the same order and stop the printing if any numbers that come after 237 in the sequence\n",
        "numbers = [    \n",
        "    386, 462, 47, 418, 907, 344, 236, 375, 823, 566, 597, 978, 328, 615, 953, 345, \n",
        "    399, 162, 758, 219, 918, 237, 412, 566, 826, 248, 866, 950, 626, 949, 687, 217, \n",
        "    815, 67, 104, 58, 512, 24, 892, 894, 767, 553, 81, 379, 843, 831, 445, 742, 717, \n",
        "    958,743, 527\n",
        "    ]\n",
        "numbers = sorted(numbers)\n",
        "print(numbers)\n",
        "\n",
        "for num in numbers:\n",
        "  if ((num <= 237) and (num % 2 == 0) ):\n",
        "    \n",
        "    print (\"Even numbers\",num)"
      ],
      "execution_count": null,
      "outputs": [
        {
          "output_type": "stream",
          "text": [
            "[24, 47, 58, 67, 81, 104, 162, 217, 219, 236, 237, 248, 328, 344, 345, 375, 379, 386, 399, 412, 418, 445, 462, 512, 527, 553, 566, 566, 597, 615, 626, 687, 717, 742, 743, 758, 767, 815, 823, 826, 831, 843, 866, 892, 894, 907, 918, 949, 950, 953, 958, 978]\n",
            "Even numbers 24\n",
            "Even numbers 58\n",
            "Even numbers 104\n",
            "Even numbers 162\n",
            "Even numbers 236\n"
          ],
          "name": "stdout"
        }
      ]
    },
    {
      "cell_type": "markdown",
      "metadata": {
        "id": "_eHIa3sXUfkw"
      },
      "source": [
        "**LOOPS - FOR & WHILE**"
      ]
    },
    {
      "cell_type": "code",
      "metadata": {
        "id": "GhwVboANUl51",
        "colab": {
          "base_uri": "https://localhost:8080/"
        },
        "outputId": "c11bd8f3-0767-4f62-eaaa-0ebc8d068901"
      },
      "source": [
        "name = 'Jonhny Deep'\n",
        "\n",
        "for letter in name:\n",
        "  print(letter)"
      ],
      "execution_count": null,
      "outputs": [
        {
          "output_type": "stream",
          "text": [
            "J\n",
            "o\n",
            "n\n",
            "h\n",
            "n\n",
            "y\n",
            " \n",
            "D\n",
            "e\n",
            "e\n",
            "p\n"
          ],
          "name": "stdout"
        }
      ]
    },
    {
      "cell_type": "code",
      "metadata": {
        "id": "LSJGHP5eU7ej",
        "colab": {
          "base_uri": "https://localhost:8080/"
        },
        "outputId": "2a21502a-c2b1-4b17-8acf-e8762edf376d"
      },
      "source": [
        "#while loop-execute until the statement is true\n",
        "fruits=['apple','orange','strawberry','ciku']\n",
        "counter=0\n",
        "while(len(fruits)>0):\n",
        "  fruit=fruits.pop() #take out last item from the list\n",
        "  print(\"Process\",counter,fruit)\n",
        "  counter=counter +1\n"
      ],
      "execution_count": null,
      "outputs": [
        {
          "output_type": "stream",
          "text": [
            "Process 0 ciku\n",
            "Process 1 strawberry\n",
            "Process 2 orange\n",
            "Process 3 apple\n"
          ],
          "name": "stdout"
        }
      ]
    },
    {
      "cell_type": "markdown",
      "metadata": {
        "id": "u7qBAVblW6jP"
      },
      "source": [
        "**EXERCISE - LOOPS**"
      ]
    },
    {
      "cell_type": "code",
      "metadata": {
        "id": "8tsgVOfIMVqu",
        "colab": {
          "base_uri": "https://localhost:8080/"
        },
        "outputId": "febf598f-0eae-44a8-be16-fcc2dc4d971c"
      },
      "source": [
        "#iterate through the list and if there is a 100, print it with its index number. i.e.: \"There is a 100 at index no: 5\"\n",
        "lst=[10, 99, 98, 85, 45, 59, 65, 66, 76, 12, 35, 13, 100, 80, 95]\n",
        "i = 0\n",
        "while (i < len(lst)): # returns the number of items in an object/ characters in the string\n",
        "    if lst[i] == 100:\n",
        "        print(\"There is a 100 at index no: \" + str(i))\n",
        "    i = i+1"
      ],
      "execution_count": null,
      "outputs": [
        {
          "output_type": "stream",
          "text": [
            "There is a 100 at index no: 12\n"
          ],
          "name": "stdout"
        }
      ]
    },
    {
      "cell_type": "code",
      "metadata": {
        "id": "oAZfNFWQO_y9"
      },
      "source": [
        ""
      ],
      "execution_count": null,
      "outputs": []
    },
    {
      "cell_type": "code",
      "metadata": {
        "id": "4JfX73rTMn4s",
        "colab": {
          "base_uri": "https://localhost:8080/"
        },
        "outputId": "9017aa3d-280e-449e-f998-ad44c60aeedc"
      },
      "source": [
        "lst1=[\"Joe\", \"Sarah\", \"Mike\", \"Jess\", \"\", \"Matt\", \"\", \"Greg\"]\n",
        "def name_adder(list):\n",
        "    i = 0\n",
        "    new_list = []\n",
        "    while i < len(list):\n",
        "        if list[i] != \"\":\n",
        "            new_list.append(list[i])\n",
        "        i = i+1\n",
        "    return new_list\n",
        "\n",
        "print(name_adder(lst1))\n",
        "\n",
        "\n"
      ],
      "execution_count": null,
      "outputs": [
        {
          "output_type": "stream",
          "text": [
            "['Joe', 'Sarah', 'Mike', 'Jess', 'Matt', 'Greg']\n"
          ],
          "name": "stdout"
        }
      ]
    },
    {
      "cell_type": "code",
      "metadata": {
        "id": "bW-kmSPfQwid",
        "colab": {
          "base_uri": "https://localhost:8080/"
        },
        "outputId": "10257df1-96c3-4f7b-bd01-6e403084179e"
      },
      "source": [
        "#while loop that stops appending items to the new list as soon as it encounters an empty string: \"\"\n",
        "lst1=[\"Sam\", \"\", \"Ben\", \"Olivia\", \"Alicia\"]\n",
        "def name_adder(list):\n",
        "    i = 0\n",
        "    new_list = []\n",
        "    while i < len(list):\n",
        "        if list[i] != \"\":\n",
        "            new_list.append(list[i])\n",
        "        else:\n",
        "            break\n",
        "        i = i+1\n",
        "    return new_list\n",
        "\n",
        "print(name_adder(lst1))"
      ],
      "execution_count": null,
      "outputs": [
        {
          "output_type": "stream",
          "text": [
            "['Sam']\n"
          ],
          "name": "stdout"
        }
      ]
    },
    {
      "cell_type": "code",
      "metadata": {
        "colab": {
          "base_uri": "https://localhost:8080/"
        },
        "id": "Uz2TmWitgXzL",
        "outputId": "ecc5c73f-86e3-41b6-d980-13da1dccbd80"
      },
      "source": [
        "#print int 0-9\n",
        "count = 0 #define variable\n",
        "\n",
        "while count < 9: #condition\n",
        "  print(\"Number:\",count)\n",
        "  count = count+1\n",
        "\n",
        "print(\"Bye\") #went out the loop"
      ],
      "execution_count": null,
      "outputs": [
        {
          "output_type": "stream",
          "text": [
            "Number: 0\n",
            "Number: 1\n",
            "Number: 2\n",
            "Number: 3\n",
            "Number: 4\n",
            "Number: 5\n",
            "Number: 6\n",
            "Number: 7\n",
            "Number: 8\n",
            "Bye\n"
          ],
          "name": "stdout"
        }
      ]
    },
    {
      "cell_type": "code",
      "metadata": {
        "colab": {
          "base_uri": "https://localhost:8080/"
        },
        "id": "7URqJh6ViI1E",
        "outputId": "ad576388-e2de-478f-c292-0a357b5b645b"
      },
      "source": [
        "#guessing game- from random number\n",
        "import random #generate random num\n",
        "n = 20 #range of the random num\n",
        "to_be_guessed= int(n * random.random()) + 1 #logic to generate random num 0 -20\n",
        "guess = 0 #initialization\n",
        "\n",
        "while guess != to_be_guessed: # condition - num i guess is not equal to the random num\n",
        "  guess = int(input(\"New Number: \"))\n",
        "  if guess > 0:\n",
        "    if guess > to_be_guessed:\n",
        "      print(\"Number is large\")\n",
        "    elif guess < to_be_guessed:\n",
        "      print(\"Number is small\")\n",
        "  else:\n",
        "    print(\"Sorry that you're giving up\")\n",
        "    break\n",
        "else:\n",
        "  print(\"Congratulations, you made it!\")\n",
        "\n"
      ],
      "execution_count": null,
      "outputs": [
        {
          "output_type": "stream",
          "text": [
            "New Number: 16\n",
            "Number is large\n",
            "New Number: 10\n",
            "Number is small\n",
            "New Number: -3\n",
            "Sorry that you're giving up\n"
          ],
          "name": "stdout"
        }
      ]
    },
    {
      "cell_type": "code",
      "metadata": {
        "colab": {
          "base_uri": "https://localhost:8080/"
        },
        "id": "zKwZqWiMlyZb",
        "outputId": "4d75cb44-516c-457f-e8dc-3c82e0846801"
      },
      "source": [
        "fruits = ['mango','ciku','grape']#only 3 iterations will take place\n",
        "\n",
        "for fruit in fruits:\n",
        "  print(\"current fruit:\",fruit)\n",
        "\n",
        "print(\"Bye\")\n"
      ],
      "execution_count": null,
      "outputs": [
        {
          "output_type": "stream",
          "text": [
            "current fruit: mango\n",
            "current fruit: ciku\n",
            "current fruit: grape\n",
            "Bye\n"
          ],
          "name": "stdout"
        }
      ]
    },
    {
      "cell_type": "code",
      "metadata": {
        "colab": {
          "base_uri": "https://localhost:8080/"
        },
        "id": "NXY0iZYCmbWp",
        "outputId": "01a5de02-5d35-498a-a96f-94f45ad649a3"
      },
      "source": [
        "#factorial of num- factorial function (symbol: !) says to multiply all whole numbers from our chosen number down to 1.\n",
        "\n",
        "num = int(input(\"Number:\"))\n",
        "factorial=1\n",
        "\n",
        "if num < 0:\n",
        "  print(\"Must be positive\")\n",
        "elif num == 0:\n",
        "  print(\"factorial = 1\")\n",
        "\n",
        "else:\n",
        "  for i in range(1,num + 1): #num + 1- range between 1 to num\n",
        "    factorial = factorial*i #factorial is eq to 1 in initial\n",
        "  print(factorial)\n"
      ],
      "execution_count": null,
      "outputs": [
        {
          "output_type": "stream",
          "text": [
            "Number:3\n",
            "6\n"
          ],
          "name": "stdout"
        }
      ]
    },
    {
      "cell_type": "code",
      "metadata": {
        "colab": {
          "base_uri": "https://localhost:8080/"
        },
        "id": "qatCYusOoYc7",
        "outputId": "3a461076-f907-454d-94f6-3c3b113c77f9"
      },
      "source": [
        "#Nested loop - while\n",
        "\n",
        "print (\"Welcome to Maybank Malaysia\")\n",
        "restart= (\"y\")\n",
        "chances=3\n",
        "balance= 105.00\n",
        "\n",
        "while chances >= 0:\n",
        "  pin = int(input(\"Enter your Pin num: \"))\n",
        "  if pin == (5264):\n",
        "    print(\"You entered correctly.\")\n",
        "    while restart not in ('n','N','no','NO','No'):\n",
        "      print(\"Press 1 : Balance\")\n",
        "      print(\"Press 2 : Withdraw\")\n",
        "      print(\"Press 3 : Pay in\")\n",
        "      print(\"Press 4 : Return Card\")\n",
        "      option=int(input(\"Which option would you like to choose?\"))\n",
        "\n",
        "      if option==1:\n",
        "        print(\"Your balance is\",balance)\n",
        "        restart = input(\"Would you like to go back to main page?\")\n",
        "        if restart in ('n','N','no','NO','No'):\n",
        "          print(\"Thank you\")\n",
        "          break\n",
        "      elif option==2:\n",
        "        restart=(\"y\")\n",
        "        withdrawl = float(input(\"How much you would like to withdraw?\"+\"\\n\"+\"Withdrawl amounts are 10,20,50,60,100:\"))\n",
        "        if withdrawl in [10,20,50,60,100]:\n",
        "          balance = balance - withdrawl\n",
        "          print(\"Current balance\",balance)\n",
        "          restart = input(\"Would you like to go back to main page?\")\n",
        "          if restart in ('n','N','no','NO','No'):\n",
        "              print(\"Thank you\")\n",
        "              break\n",
        "          elif withdrawl != [10,20,50,60,100]:\n",
        "            print(\"Invalid amount. Retry\")\n",
        "            restart= (\"y\")\n",
        "          elif withdrawl == 1:\n",
        "            withdrawl = float(input(\"Please enter desired amount:\"))\n",
        "\n",
        "      elif option==3:\n",
        "          Pay_in = float(input(\"How much would you like to pay in\"))\n",
        "          balance=balance + Pay_in\n",
        "          print(\"Current balance:\",balance)\n",
        "          restart = input(\"Would you like to go back to main page?\")\n",
        "          if restart in ('n','N','no','NO','No'):\n",
        "             print(\"Thank you\")\n",
        "             break\n",
        "\n",
        "      elif option== 4 :\n",
        "          print(\"Wait your card is returned\")\n",
        "          print(\"Thank you\")\n",
        "          break\n",
        "\n",
        "      else:\n",
        "          print(\"Please enter correct number:\")\n",
        "          restart=(\"y\")\n",
        "\n",
        "  elif pin != (5264):\n",
        "    print(\"Incorrect password\")\n",
        "    chances= chances - 1\n",
        "    if chances == 0:\n",
        "      print(\"No more tries. Sorry\")\n",
        "      break "
      ],
      "execution_count": null,
      "outputs": [
        {
          "output_type": "stream",
          "text": [
            "Welcome to Maybank Malaysia\n",
            "Enter your Pin num: 5264\n",
            "You entered correctly.\n",
            "Press 1 : Balance\n",
            "Press 2 : Withdraw\n",
            "Press 3 : Pay in\n",
            "Press 4 : Return Card\n",
            "Which option would you like to choose?3\n",
            "How much would you like to pay in30\n",
            "Current balance: 135.0\n",
            "Would you like to go back to main page?y\n",
            "Press 1 : Balance\n",
            "Press 2 : Withdraw\n",
            "Press 3 : Pay in\n",
            "Press 4 : Return Card\n",
            "Which option would you like to choose?4\n",
            "Wait your card is returned\n",
            "Thank you\n",
            "Enter your Pin num: 123\n",
            "Incorrect password\n",
            "Enter your Pin num: 123\n",
            "Incorrect password\n",
            "Enter your Pin num: 345\n",
            "Incorrect password\n",
            "No more tries. Sorry\n"
          ],
          "name": "stdout"
        }
      ]
    },
    {
      "cell_type": "code",
      "metadata": {
        "colab": {
          "base_uri": "https://localhost:8080/"
        },
        "id": "4BzrZk3m1sz6",
        "outputId": "769c3544-a496-4593-cbaa-ef5621a1693a"
      },
      "source": [
        "#Nested loop - for\n",
        "#pythogras num 1-20 \n",
        "\n",
        "from math import sqrt\n",
        "n= int(input(\"Maximal Number?\"))\n",
        "\n",
        "for a in range(1, n+1):\n",
        "  for b in range(a,n):\n",
        "    c_square= a**2 + b**2\n",
        "    c = int(sqrt(c_square)) #convert to int value\n",
        "    if ((c_square - c**2)==0):\n",
        "      print(a, b, c)"
      ],
      "execution_count": null,
      "outputs": [
        {
          "output_type": "stream",
          "text": [
            "Maximal Number?16\n",
            "3 4 5\n",
            "5 12 13\n",
            "6 8 10\n",
            "8 15 17\n",
            "9 12 15\n"
          ],
          "name": "stdout"
        }
      ]
    },
    {
      "cell_type": "code",
      "metadata": {
        "colab": {
          "base_uri": "https://localhost:8080/"
        },
        "id": "-ryuMb3UEf1w",
        "outputId": "8c328e12-57d1-448e-962f-eaf8cc1d3c0e"
      },
      "source": [
        "#Bulk reservation of train ticket\n",
        "#for loop inside while loop\n",
        "\n",
        "travel = input(\"yes or no:\")\n",
        "\n",
        "while travel == \"yes\":\n",
        "\n",
        "  num = int(input(\"Number of passangers:\"))\n",
        "\n",
        "  for num in range(1, num + 1):\n",
        "    name = input(\"Name:\")\n",
        "    age = input(\"Age:\")\n",
        "    sex = input(\"Male or female:\")\n",
        "\n",
        "    print(name)\n",
        "    print(age)\n",
        "    print(sex)\n",
        "    \n",
        "  travel= input(\"Forgot someone\")\n"
      ],
      "execution_count": null,
      "outputs": [
        {
          "output_type": "stream",
          "text": [
            "yes or no:yes\n",
            "Number of passangers:1\n",
            "Name:Raji\n",
            "Age:24\n",
            "Male or female:F\n",
            "Raji\n",
            "24\n",
            "F\n",
            "Forgot someoneno\n"
          ],
          "name": "stdout"
        }
      ]
    },
    {
      "cell_type": "code",
      "metadata": {
        "colab": {
          "base_uri": "https://localhost:8080/"
        },
        "id": "t-ST8HG-QFcN",
        "outputId": "470e3c18-c971-48e6-b338-ed5399c4f652"
      },
      "source": [
        "num= 0\n",
        "for num in range(1500,2700):\n",
        "   if ((num %  7 == 0) and (num % 5 == 0) ):\n",
        "     print(\"Number in range\", num)\n",
        "  "
      ],
      "execution_count": null,
      "outputs": [
        {
          "output_type": "stream",
          "text": [
            "Number in range 1505\n",
            "Number in range 1540\n",
            "Number in range 1575\n",
            "Number in range 1610\n",
            "Number in range 1645\n",
            "Number in range 1680\n",
            "Number in range 1715\n",
            "Number in range 1750\n",
            "Number in range 1785\n",
            "Number in range 1820\n",
            "Number in range 1855\n",
            "Number in range 1890\n",
            "Number in range 1925\n",
            "Number in range 1960\n",
            "Number in range 1995\n",
            "Number in range 2030\n",
            "Number in range 2065\n",
            "Number in range 2100\n",
            "Number in range 2135\n",
            "Number in range 2170\n",
            "Number in range 2205\n",
            "Number in range 2240\n",
            "Number in range 2275\n",
            "Number in range 2310\n",
            "Number in range 2345\n",
            "Number in range 2380\n",
            "Number in range 2415\n",
            "Number in range 2450\n",
            "Number in range 2485\n",
            "Number in range 2520\n",
            "Number in range 2555\n",
            "Number in range 2590\n",
            "Number in range 2625\n",
            "Number in range 2660\n",
            "Number in range 2695\n"
          ],
          "name": "stdout"
        }
      ]
    },
    {
      "cell_type": "code",
      "metadata": {
        "colab": {
          "base_uri": "https://localhost:8080/"
        },
        "id": "iJ0YQWNb6r5l",
        "outputId": "05dad01e-b97e-4317-9178-195a19266735"
      },
      "source": [
        "n=int(input(\"Number:\"))\n",
        "\n",
        "def Difference(n):\n",
        "  \n",
        "    if n >= 17:\n",
        "        return n - 17\n",
        "    else:\n",
        "        return abs(n - 17) \n",
        "\n",
        "print(Difference(n))\n"
      ],
      "execution_count": null,
      "outputs": [
        {
          "output_type": "stream",
          "text": [
            "Number:20\n",
            "3\n"
          ],
          "name": "stdout"
        }
      ]
    },
    {
      "cell_type": "code",
      "metadata": {
        "colab": {
          "base_uri": "https://localhost:8080/"
        },
        "id": "h1I7NVpCB_g8",
        "outputId": "e49c4c0b-0a90-44bf-cd66-ab80d4253fdc"
      },
      "source": [
        "#calculate the sum of three given numbers, if the values are equal then return three times of their sum.\n",
        "a=int(input(\"Number 1:\"))\n",
        "b=int(input(\"Number 2:\"))\n",
        "c=int(input(\"Number 3:\"))\n",
        "\n",
        "def sum(a,b,c):\n",
        "  if a==b==c:\n",
        "    return (a + b + c) *3\n",
        "  else:\n",
        "    return(a + b + c)\n",
        "\n",
        "print(sum(a,b,c))"
      ],
      "execution_count": null,
      "outputs": [
        {
          "output_type": "stream",
          "text": [
            "Number 1:2\n",
            "Number 2:2\n",
            "Number 3:2\n",
            "18\n"
          ],
          "name": "stdout"
        }
      ]
    },
    {
      "cell_type": "code",
      "metadata": {
        "colab": {
          "base_uri": "https://localhost:8080/"
        },
        "id": "4wvGAEgWJgMk",
        "outputId": "b33780d1-ad30-40fe-dcae-80c6a7a30499"
      },
      "source": [
        "#string\n",
        "#Get a new string from a given string where 'Is' has been added to the front. If the given string already begins with 'Is' then return the string unchanged\n",
        "str= input(\"What's in your mind?\")\n",
        "def new_string(str):\n",
        "  if len(str) >= 2 and str[:2] == \"Is\":\n",
        "    return str\n",
        "  return \"Is\" + str\n",
        "\n",
        "print(new_string(str))"
      ],
      "execution_count": null,
      "outputs": [
        {
          "output_type": "stream",
          "text": [
            "What's in your mind?Is That You?\n",
            "Is That You?\n"
          ],
          "name": "stdout"
        }
      ]
    }
  ]
}